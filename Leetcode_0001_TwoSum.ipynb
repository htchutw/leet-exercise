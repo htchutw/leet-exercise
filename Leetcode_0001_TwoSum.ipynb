{
  "nbformat": 4,
  "nbformat_minor": 0,
  "metadata": {
    "colab": {
      "provenance": []
    },
    "kernelspec": {
      "name": "python3",
      "display_name": "Python 3"
    },
    "language_info": {
      "name": "python"
    }
  },
  "cells": [
    {
      "cell_type": "markdown",
      "source": [
        "# Leetcode-0001-TwoSum"
      ],
      "metadata": {
        "id": "Nr8HKVLYsFlL"
      }
    },
    {
      "cell_type": "markdown",
      "source": [
        "# Ver1\n",
        "$O(n^2)$版本1"
      ],
      "metadata": {
        "id": "Q7XZfUchsLqr"
      }
    },
    {
      "cell_type": "code",
      "execution_count": null,
      "metadata": {
        "colab": {
          "base_uri": "https://localhost:8080/"
        },
        "id": "tRibukxmrmBR",
        "outputId": "5f3379e0-9112-46cd-a641-bb866d30c435"
      },
      "outputs": [
        {
          "output_type": "stream",
          "name": "stdout",
          "text": [
            "[0, 1]\n"
          ]
        }
      ],
      "source": [
        "nums = [2,7,11,15]\n",
        "target = 9\n",
        "for i in range(len(nums)):\n",
        "  for j in range(i+1, len(nums)):\n",
        "    if i == j:\n",
        "      continue\n",
        "    if nums[i] + nums[ j] == target:\n",
        "      print([i, j])"
      ]
    },
    {
      "cell_type": "markdown",
      "source": [
        "#Ver2\n",
        "$O(n)$版本2"
      ],
      "metadata": {
        "id": "w988zcgrtno7"
      }
    },
    {
      "cell_type": "code",
      "source": [
        "nums = [2,7,11,15]\n",
        "target = 9\n",
        "complement ={}\n",
        "for i, num in enumerate(nums): # a dictionary\n",
        "  complement[num]=i\n",
        "for i, num in enumerate(nums):\n",
        "  num2 = target-num\n",
        "  if num2 in complement:\n",
        "    j = complement[num2]\n",
        "    if i < j:\n",
        "      print([i, j])"
      ],
      "metadata": {
        "colab": {
          "base_uri": "https://localhost:8080/"
        },
        "id": "2ESRDO2VtnED",
        "outputId": "1717b494-0867-402c-ec60-5718af52afc2"
      },
      "execution_count": null,
      "outputs": [
        {
          "output_type": "stream",
          "name": "stdout",
          "text": [
            "[0, 1]\n"
          ]
        }
      ]
    }
  ]
}